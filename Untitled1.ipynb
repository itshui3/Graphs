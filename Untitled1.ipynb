{
 "cells": [
  {
   "cell_type": "code",
   "execution_count": null,
   "metadata": {},
   "outputs": [],
   "source": [
    "class Graph:\n",
    "    def __init__(self):\n",
    "        self.vertices = {}\n",
    "    \n",
    "    def add_vertex(self, vertex_id):\n",
    "        self.vertices[vertex_id] = set()\n",
    "    \n",
    "    def add_edge(self, v1, v2):\n",
    "        \n",
    "        if v1 in self.vertices and v2 in self.vertices:\n",
    "            self.vertices[v1].add(v2)\n",
    "        else:\n",
    "            raise IndexError(\"Vertex does not exist in graph\")\n",
    "    \n",
    "    def get_neighbors(self, vertex_id):\n",
    "        return self.vertices[vertex_id]"
   ]
  }
 ],
 "metadata": {
  "kernelspec": {
   "display_name": "Python 3",
   "language": "python",
   "name": "python3"
  },
  "language_info": {
   "codemirror_mode": {
    "name": "ipython",
    "version": 3
   },
   "file_extension": ".py",
   "mimetype": "text/x-python",
   "name": "python",
   "nbconvert_exporter": "python",
   "pygments_lexer": "ipython3",
   "version": "3.8.2"
  }
 },
 "nbformat": 4,
 "nbformat_minor": 4
}
